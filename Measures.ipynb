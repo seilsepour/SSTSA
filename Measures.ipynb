{
  "nbformat": 4,
  "nbformat_minor": 0,
  "metadata": {
    "colab": {
      "provenance": [],
      "collapsed_sections": [
        "1WcELaQyoyz8"
      ],
      "machine_shape": "hm",
      "authorship_tag": "ABX9TyNsfd8eX64q02IJiPszBLDy",
      "include_colab_link": true
    },
    "kernelspec": {
      "name": "python3",
      "display_name": "Python 3"
    },
    "language_info": {
      "name": "python"
    },
    "accelerator": "GPU"
  },
  "cells": [
    {
      "cell_type": "markdown",
      "metadata": {
        "id": "view-in-github",
        "colab_type": "text"
      },
      "source": [
        "<a href=\"https://colab.research.google.com/github/seilsepour/SSTSA/blob/main/Measures.ipynb\" target=\"_parent\"><img src=\"https://colab.research.google.com/assets/colab-badge.svg\" alt=\"Open In Colab\"/></a>"
      ]
    },
    {
      "cell_type": "code",
      "execution_count": null,
      "metadata": {
        "id": "ZQ7qRpEa8Zs8"
      },
      "outputs": [],
      "source": [
        "import numpy as np\n",
        "import pandas as pd\n",
        "\n",
        "import string\n",
        "from __future__ import print_function\n",
        "\n",
        "import gensim\n",
        "from scipy import spatial\n",
        "\n",
        "from sklearn.metrics import accuracy_score\n",
        "from sklearn.metrics import classification_report"
      ]
    },
    {
      "cell_type": "code",
      "source": [
        "\n",
        "csvSource = '/MYDRIVE/My Drive/Colab Notebooks/SSTSA/data/resultAll-MR-01-02-22.xlsx'"
      ],
      "metadata": {
        "id": "tGiZVOWU-ydE"
      },
      "execution_count": null,
      "outputs": []
    },
    {
      "cell_type": "code",
      "source": [
        "#No need in local\n",
        "from google.colab import drive\n",
        "drive.mount('/MYDRIVE', force_remount=True)"
      ],
      "metadata": {
        "id": "6amIJUIA-5kD"
      },
      "execution_count": null,
      "outputs": []
    },
    {
      "cell_type": "code",
      "source": [
        "from sklearn.metrics import confusion_matrix\n",
        "from sklearn.metrics import classification_report\n",
        "from sklearn.metrics import precision_score, recall_score, accuracy_score, f1_score\n",
        "from sklearn import metrics\n",
        "\n",
        "\n",
        "def get_results( labels, predictions):\n",
        "\n",
        "        conf_matrix = confusion_matrix(labels, predictions)\n",
        "\n",
        "\n",
        "        precision = precision_score(labels, predictions)\n",
        "        recall = recall_score(labels, predictions)\n",
        "        f1score = metrics.f1_score(labels, predictions)\n",
        "        accuracy = accuracy_score(labels, predictions)\n",
        "\n",
        "        return conf_matrix, precision,  recall, f1score,  accuracy\n",
        "\n",
        "\n",
        "def calculateMCC( labels, predictions):\n",
        "\n",
        "        cm = ConfusionMatrix(labels, predictions, digit=5)\n",
        "\n",
        "        #print(\"\\n Kappa-AC1: \", cm.Kappa, cm.AC1)\n",
        "        #print(\"\\nMCC:\")\n",
        "        #print(cm.MCC)\n",
        "        return cm.MCC\n",
        "\n",
        "def calculate_roc_auc_score(labels, predictions):\n",
        "        score = roc_auc_score(labels, predictions)\n",
        "        return score\n",
        "        #print(\"ROC:\" , score)\n"
      ],
      "metadata": {
        "id": "T8J5sFuF-_Lz"
      },
      "execution_count": null,
      "outputs": []
    },
    {
      "cell_type": "code",
      "source": [
        "dfSource = pd.DataFrame()\n",
        "#dfSource = pd.read_csv(csvSource, encoding = 'utf-8')\n",
        "dfSource = pd.read_excel(csvSource)"
      ],
      "metadata": {
        "id": "rZ9DnFRT_FsH"
      },
      "execution_count": null,
      "outputs": []
    },
    {
      "cell_type": "code",
      "source": [
        "dfSource.columns"
      ],
      "metadata": {
        "id": "0o36dnRy_9jb"
      },
      "execution_count": null,
      "outputs": []
    },
    {
      "cell_type": "markdown",
      "source": [
        "# Cosine"
      ],
      "metadata": {
        "id": "f7o_OEndoO9F"
      }
    },
    {
      "cell_type": "code",
      "source": [
        "conf_matrix, precision,  recall, f1score,  accuracy =  get_results( dfSource[[\"ActualLabel\"]], dfSource[[\"score_c\"]])\n",
        "print(precision)\n",
        "print(recall)\n",
        "print(f1score)\n",
        "print(accuracy)\n",
        "print(classification_report(dfSource[[\"ActualLabel\"]], dfSource[[\"score_c\"]]))"
      ],
      "metadata": {
        "id": "G3zeek_gmVNp"
      },
      "execution_count": null,
      "outputs": []
    },
    {
      "cell_type": "markdown",
      "source": [
        "# Distance"
      ],
      "metadata": {
        "id": "ibOkTznpoTJX"
      }
    },
    {
      "cell_type": "code",
      "source": [
        "conf_matrix, precision,  recall, f1score,  accuracy =  get_results( dfSource[[\"ActualLabel\"]], dfSource[[\"score_dist\"]])\n",
        "print(precision)\n",
        "print(recall)\n",
        "print(f1score)\n",
        "print(accuracy)\n",
        "print(classification_report(dfSource[[\"ActualLabel\"]], dfSource[[\"score_dist\"]]))"
      ],
      "metadata": {
        "id": "_dCQ8ETpEQTu"
      },
      "execution_count": null,
      "outputs": []
    },
    {
      "cell_type": "markdown",
      "source": [
        "# Soft Cosine"
      ],
      "metadata": {
        "id": "TcIBrUXuoXAg"
      }
    },
    {
      "cell_type": "code",
      "source": [
        "conf_matrix, precision,  recall, f1score,  accuracy =  get_results( dfSource[[\"ActualLabel\"]], dfSource[[\"score_sc\"]])\n",
        "print(precision)\n",
        "print(recall)\n",
        "print(f1score)\n",
        "print(accuracy)\n",
        "print(classification_report(dfSource[[\"ActualLabel\"]], dfSource[[\"score_sc\"]]))"
      ],
      "metadata": {
        "id": "B_Z9KOrYFH_s"
      },
      "execution_count": null,
      "outputs": []
    },
    {
      "cell_type": "markdown",
      "source": [
        "# Cosine + Soft Cosine"
      ],
      "metadata": {
        "id": "lAI5vZDppN7X"
      }
    },
    {
      "cell_type": "code",
      "source": [
        "conf_matrix, precision,  recall, f1score,  accuracy =  get_results( dfSource[[\"ActualLabel\"]], dfSource[[\"score_csc\"]])\n",
        "print(precision)\n",
        "print(recall)\n",
        "print(f1score)\n",
        "print(accuracy)\n",
        "print(classification_report(dfSource[[\"ActualLabel\"]], dfSource[[\"score_csc\"]]))"
      ],
      "metadata": {
        "id": "HBs1R8-MpVB-"
      },
      "execution_count": null,
      "outputs": []
    },
    {
      "cell_type": "markdown",
      "source": [
        "# MIX (SC+C-Distance)"
      ],
      "metadata": {
        "id": "4A4An-xSnguv"
      }
    },
    {
      "cell_type": "code",
      "source": [
        "conf_matrix, precision,  recall, f1_score,  accuracy =  get_results( dfSource[[\"ActualLabel\"]], dfSource[[\"MIX\"]])\n",
        "print(precision)\n",
        "print(recall)\n",
        "print(f1_score)\n",
        "print(accuracy)\n",
        "print(classification_report(dfSource[[\"ActualLabel\"]], dfSource[[\"MIX\"]]))"
      ],
      "metadata": {
        "id": "xSlPBIJZDIUd"
      },
      "execution_count": null,
      "outputs": []
    },
    {
      "cell_type": "markdown",
      "source": [
        "# VADER"
      ],
      "metadata": {
        "id": "t5DxGveoob-j"
      }
    },
    {
      "cell_type": "code",
      "source": [
        "dfSource.columns"
      ],
      "metadata": {
        "id": "flWpFHy-AEEx"
      },
      "execution_count": null,
      "outputs": []
    },
    {
      "cell_type": "code",
      "source": [
        "conf_matrix, precision,  recall, f1score,  accuracy =  get_results( dfSource[[\"ActualLabel\"]], dfSource[[\"VADER\"]])\n",
        "print(precision)\n",
        "print(recall)\n",
        "print(f1score)\n",
        "print(accuracy)\n",
        "print(classification_report(dfSource[[\"ActualLabel\"]], dfSource[[\"VADER\"]]))"
      ],
      "metadata": {
        "id": "JiouKHC5FLaG"
      },
      "execution_count": null,
      "outputs": []
    },
    {
      "cell_type": "markdown",
      "source": [
        "# BLOB"
      ],
      "metadata": {
        "id": "x9M5Hnu6ofII"
      }
    },
    {
      "cell_type": "code",
      "source": [
        "conf_matrix, precision,  recall, f1score,  accuracy =  get_results( dfSource[[\"ActualLabel\"]], dfSource[[\"BLOB\"]])\n",
        "print(precision)\n",
        "print(recall)\n",
        "print(f1score)\n",
        "print(accuracy)\n",
        "print(classification_report(dfSource[[\"ActualLabel\"]], dfSource[[\"BLOB\"]]))"
      ],
      "metadata": {
        "id": "DT921jgAFPZt"
      },
      "execution_count": null,
      "outputs": []
    },
    {
      "cell_type": "markdown",
      "source": [
        "# FLAIR"
      ],
      "metadata": {
        "id": "iBvPaNXdoiCM"
      }
    },
    {
      "cell_type": "code",
      "source": [
        "conf_matrix, precision,  recall, f1score,  accuracy =  get_results( dfSource[[\"ActualLabel\"]], dfSource[[\"FLAIR\"]])\n",
        "print(precision)\n",
        "print(recall)\n",
        "print(f1score)\n",
        "print(accuracy)\n",
        "print(classification_report(dfSource[[\"ActualLabel\"]], dfSource[[\"FLAIR\"]]))"
      ],
      "metadata": {
        "id": "AoeVGDUFFUWA"
      },
      "execution_count": null,
      "outputs": []
    },
    {
      "cell_type": "markdown",
      "source": [
        "# AFINN"
      ],
      "metadata": {
        "id": "cLALC-J9ok1a"
      }
    },
    {
      "cell_type": "code",
      "source": [
        "conf_matrix, precision,  recall, f1score,  accuracy =  get_results( dfSource[[\"ActualLabel\"]], dfSource[[\"AFINN\"]])\n",
        "print(precision)\n",
        "print(recall)\n",
        "print(f1score)\n",
        "print(accuracy)\n",
        "print(classification_report(dfSource[[\"ActualLabel\"]], dfSource[[\"AFINN\"]]))"
      ],
      "metadata": {
        "id": "S-HfqfiPFaQv"
      },
      "execution_count": null,
      "outputs": []
    },
    {
      "cell_type": "markdown",
      "source": [
        "# SENTI"
      ],
      "metadata": {
        "id": "UPlSkzUfooCs"
      }
    },
    {
      "cell_type": "code",
      "source": [
        "conf_matrix, precision,  recall, f1score,  accuracy =  get_results( dfSource[[\"ActualLabel\"]], dfSource[[\"SENTI\"]])\n",
        "print(precision)\n",
        "print(recall)\n",
        "print(f1score)\n",
        "print(accuracy)\n",
        "print(classification_report(dfSource[[\"ActualLabel\"]], dfSource[[\"SENTI\"]]))"
      ],
      "metadata": {
        "id": "1UTYpsPqFeLB"
      },
      "execution_count": null,
      "outputs": []
    },
    {
      "cell_type": "markdown",
      "source": [
        "# Others"
      ],
      "metadata": {
        "id": "1WcELaQyoyz8"
      }
    },
    {
      "cell_type": "code",
      "source": [
        "class KNN_Classifier(object):\n",
        "    def predict(self, X_train, Y_train,  X_test):\n",
        "        clf =   KNeighborsClassifier(n_neighbors=3) #svm.SVC( class_weight=  'balanced' , kernel = 'linear' ,max_iter=20000) #Pipeline([(\"vect\", CountVectorizer(stop_words=\"english\")),(\"tfidf\", TfidfTransformer()),(\"clf\", svm.SVC(C=1.0, kernel = 'linear',class_weight= {-1: 1.0, 0: 1.0, 1: 1.0} ,max_iter=10000))])\n",
        "        clf.fit(X_train, Y_train)\n",
        "        prediction = clf.predict(X_test)\n",
        "        return prediction\n",
        "\n",
        "class SGD_Classifier(object):\n",
        "\n",
        "    def predict(self, X_train, Y_train,  X_test):\n",
        "        clf =  SGDClassifier(loss=\"hinge\", penalty=\"l2\", max_iter=1500) #svm.SVC( class_weight=  'balanced' , kernel = 'linear' ,max_iter=20000) #Pipeline([(\"vect\", CountVectorizer(stop_words=\"english\")),(\"tfidf\", TfidfTransformer()),(\"clf\", svm.SVC(C=1.0, kernel = 'linear',class_weight= {-1: 1.0, 0: 1.0, 1: 1.0} ,max_iter=10000))])\n",
        "        clf.fit(X_train, Y_train)\n",
        "        prediction = clf.predict(X_test)\n",
        "        return prediction\n",
        "\n",
        "\n",
        "class SVM_Classifier(object):\n",
        "\n",
        "    def predict(self, X_train, Y_train,  X_test):\n",
        "        clf = svm.SVC( class_weight=  'balanced' , kernel = 'linear' ,max_iter=20000) #Pipeline([(\"vect\", CountVectorizer(stop_words=\"english\")),(\"tfidf\", TfidfTransformer()),(\"clf\", svm.SVC(C=1.0, kernel = 'linear',class_weight= {-1: 1.0, 0: 1.0, 1: 1.0} ,max_iter=10000))])\n",
        "        #clf = svm.SVC(C= 1.0, kernel = 'rbf' ,max_iter=20000, random_state = None)\n",
        "        #clf = svm.SVC(kernel = 'rbf' ,max_iter=20000)\n",
        "        #clf = svm.SVC(kernel = 'linear' ,max_iter=200000)\n",
        "        clf.fit(X_train, Y_train)\n",
        "        prediction = clf.predict(X_test)\n",
        "        return prediction\n",
        "\n",
        "class LDA_Classifier(object):\n",
        "    def predict(self, X_train, Y_train,  X_test):\n",
        "        clf = LinearDiscriminantAnalysis() #Pipeline([(\"vect\", CountVectorizer(stop_words=\"english\")),(\"tfidf\", TfidfTransformer()),(\"clf\", svm.SVC(C=1.0, kernel = 'linear',class_weight= {-1: 1.0, 0: 1.0, 1: 1.0} ,max_iter=10000))])\n",
        "        #clf = LogisticRegression()\n",
        "        clf.fit(X_train, Y_train)\n",
        "        prediction = clf.predict(X_test)\n",
        "        return prediction\n",
        "\n",
        "\n",
        "class Logistic_Regression_Classifier(object):\n",
        "    def predict(self, X_train, Y_train,  X_test):\n",
        "        clf = LogisticRegression(class_weight= 'balanced') #Pipeline([(\"vect\", CountVectorizer(stop_words=\"english\")),(\"tfidf\", TfidfTransformer()),(\"clf\", svm.SVC(C=1.0, kernel = 'linear',class_weight= {-1: 1.0, 0: 1.0, 1: 1.0} ,max_iter=10000))])\n",
        "        #clf = LogisticRegression()\n",
        "        clf.fit(X_train, Y_train)\n",
        "        prediction = clf.predict(X_test)\n",
        "        return prediction\n",
        "\n",
        "class Ridge_Regression_Classifier(object):\n",
        "    def predict(self, X_train, Y_train,  X_test):\n",
        "        clf = LogisticRegression(class_weight= 'balanced') #Pipeline([(\"vect\", CountVectorizer(stop_words=\"english\")),(\"tfidf\", TfidfTransformer()),(\"clf\", svm.SVC(C=1.0, kernel = 'linear',class_weight= {-1: 1.0, 0: 1.0, 1: 1.0} ,max_iter=10000))])\n",
        "        #clf = LogisticRegression()\n",
        "        clf.fit(X_train, Y_train)\n",
        "        prediction = clf.predict(X_test)\n",
        "        return prediction\n",
        "\n",
        "\n",
        "class Gradient_boosting_classifier(object):\n",
        "\n",
        "    def predict(self,X_train, Y_train , X_test):\n",
        "        model = XGBClassifier(class_weight= 'balanced')\n",
        "        model.fit(X_train, Y_train)\n",
        "        y_pred = model.predict(X_test)\n",
        "        predictions = [round(value) for value in y_pred]\n",
        "        return predictions\n",
        "\n",
        "\n",
        "\n",
        "class MultinomialNB_Classifier:\n",
        "    def predict(self, X_train, Y_train,  X_test):\n",
        "        classifier =  MultinomialNB()  #Pipeline([(\"vect\", CountVectorizer(stop_words=\"english\")),(\"tfidf\", TfidfTransformer()),(\"clf\", MultinomialNB())])\n",
        "        classifier.fit(X_train, Y_train)\n",
        "        prediction = classifier.predict(X_test)\n",
        "        return prediction\n",
        "\n",
        "\n",
        "class RandomForest_Classifier(object):\n",
        "    def predict(self,  X_train, Y_train, X_test):\n",
        "\n",
        "        classifier = RandomForestClassifier(class_weight= 'balanced')  #Pipeline([(\"vect\", CountVectorizer(stop_words=\"english\")),(\"tfidf\", TfidfTransformer()),(\"clf\", )])\n",
        "        classifier.fit(X_train, Y_train)\n",
        "        prediction = classifier.predict(X_test)\n",
        "        return prediction\n",
        "\n",
        "class ExtraTree_Classifier(object):\n",
        "    def predict(self, X_train, Y_train, X_test):\n",
        "        classifier = ExtraTreesClassifier(random_state=100, class_weight= 'balanced') #Pipeline([(\"vect\", CountVectorizer(stop_words=\"english\")),(\"tfidf\", TfidfTransformer()),(\"clf\", ExtraTreesClassifier(random_state=0))])\n",
        "        classifier.fit(X_train, Y_train)\n",
        "        prediction = classifier.predict(X_test)\n",
        "        return prediction\n",
        "\n",
        "class AdaBoost_Classifier(object):\n",
        "    def predict(self, X_train, Y_train, X_test):\n",
        "        classifier = AdaBoostClassifier(n_estimators=100) #Pipeline([(\"vect\", CountVectorizer(stop_words=\"english\")),(\"tfidf\", TfidfTransformer()),(\"clf\", ExtraTreesClassifier(random_state=0))])\n",
        "        classifier.fit(X_train, Y_train)\n",
        "        prediction = classifier.predict(X_test)\n",
        "        return prediction\n",
        "\n",
        "\n",
        "class AdaBoost_Classifier(object):\n",
        "    def predict(self, X_train, Y_train, X_test):\n",
        "        classifier = AdaBoostClassifier(n_estimators=100) #Pipeline([(\"vect\", CountVectorizer(stop_words=\"english\")),(\"tfidf\", TfidfTransformer()),(\"clf\", ExtraTreesClassifier(random_state=0))])\n",
        "        classifier.fit(X_train, Y_train)\n",
        "        prediction = classifier.predict(X_test)\n",
        "        return prediction\n",
        "\n",
        "class Multilayer_Perceptron_classifier:\n",
        "    def __init__(X_train, Y_train , X_test):\n",
        "        classifier = Pipeline([(\"vect\", CountVectorizer(stop_words=\"english\")),(\"tfidf\", TfidfTransformer()),(\"clf\", MLPClassifier(max_iter=10000))])\n",
        "        classifier.fit(X_train, Y_train)\n",
        "        print(\"MLPClassifier\")\n",
        "        prediction = classifier.predict(X_test)\n",
        "        return prediction\n",
        "\n"
      ],
      "metadata": {
        "id": "cRKGBzvx_One"
      },
      "execution_count": null,
      "outputs": []
    },
    {
      "cell_type": "code",
      "source": [],
      "metadata": {
        "id": "HfD9xGakDu32"
      },
      "execution_count": null,
      "outputs": []
    }
  ]
}